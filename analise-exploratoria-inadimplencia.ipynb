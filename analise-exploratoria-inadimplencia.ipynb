{
 "cells": [
  {
   "cell_type": "code",
   "execution_count": 1,
   "id": "9e727adc",
   "metadata": {},
   "outputs": [],
   "source": [
    "import pandas as pd\n",
    "import numpy as np\n",
    "import seaborn as sns\n",
    "from scipy.stats import shapiro\n",
    "from scipy.stats import mannwhitneyu\n",
    "from scipy.stats import ranksums\n",
    "from scipy.stats import ks_2samp"
   ]
  },
  {
   "cell_type": "code",
   "execution_count": 2,
   "id": "14a8b7dc",
   "metadata": {},
   "outputs": [],
   "source": [
    "file_xlsx = pd.ExcelFile('Database.xlsx')\n",
    "df_ams_atr = pd.read_excel(file_xlsx, sheet_name='Amostra com Atributos')\n",
    "df_neg = pd.read_excel(file_xlsx, sheet_name='Negativacao')\n",
    "df_cont_cart_cred = pd.read_excel(file_xlsx, sheet_name='Contratos de Cartão de Crédtido')"
   ]
  },
  {
   "cell_type": "code",
   "execution_count": 3,
   "id": "ea2d4b39",
   "metadata": {},
   "outputs": [
    {
     "data": {
      "text/html": [
       "<div>\n",
       "<style scoped>\n",
       "    .dataframe tbody tr th:only-of-type {\n",
       "        vertical-align: middle;\n",
       "    }\n",
       "\n",
       "    .dataframe tbody tr th {\n",
       "        vertical-align: top;\n",
       "    }\n",
       "\n",
       "    .dataframe thead th {\n",
       "        text-align: right;\n",
       "    }\n",
       "</style>\n",
       "<table border=\"1\" class=\"dataframe\">\n",
       "  <thead>\n",
       "    <tr style=\"text-align: right;\">\n",
       "      <th></th>\n",
       "      <th>Consumidor_Id</th>\n",
       "      <th>Data Análise</th>\n",
       "      <th>Carteira</th>\n",
       "      <th>Sexo</th>\n",
       "      <th>Data de Nascimento</th>\n",
       "      <th>Contratos Ativos</th>\n",
       "      <th>Contratos em atraso com mais de 30 dias</th>\n",
       "      <th>Inadimplente \\n(90 dias de atraso em 180 dias)</th>\n",
       "    </tr>\n",
       "  </thead>\n",
       "  <tbody>\n",
       "    <tr>\n",
       "      <th>0</th>\n",
       "      <td>1</td>\n",
       "      <td>2016-10-05 00:00:00</td>\n",
       "      <td>A</td>\n",
       "      <td>feminino</td>\n",
       "      <td>'9/1987</td>\n",
       "      <td>1</td>\n",
       "      <td>0</td>\n",
       "      <td>Não</td>\n",
       "    </tr>\n",
       "    <tr>\n",
       "      <th>1</th>\n",
       "      <td>2</td>\n",
       "      <td>2016-10-02 00:00:00</td>\n",
       "      <td>A</td>\n",
       "      <td>M</td>\n",
       "      <td>'2001</td>\n",
       "      <td>0</td>\n",
       "      <td>#</td>\n",
       "      <td>Não</td>\n",
       "    </tr>\n",
       "    <tr>\n",
       "      <th>2</th>\n",
       "      <td>3</td>\n",
       "      <td>2016-10-04 00:00:00</td>\n",
       "      <td>b</td>\n",
       "      <td>F</td>\n",
       "      <td>1946-09-17 00:00:00</td>\n",
       "      <td>1</td>\n",
       "      <td>0</td>\n",
       "      <td>Não</td>\n",
       "    </tr>\n",
       "    <tr>\n",
       "      <th>3</th>\n",
       "      <td>4</td>\n",
       "      <td>2016-10-06 00:00:00</td>\n",
       "      <td>C</td>\n",
       "      <td>F</td>\n",
       "      <td>1989-09-29 12:00:00</td>\n",
       "      <td>1</td>\n",
       "      <td>0</td>\n",
       "      <td>Sim</td>\n",
       "    </tr>\n",
       "    <tr>\n",
       "      <th>4</th>\n",
       "      <td>5</td>\n",
       "      <td>2016-10-06 00:00:00</td>\n",
       "      <td>C</td>\n",
       "      <td>F</td>\n",
       "      <td>'1989</td>\n",
       "      <td>1</td>\n",
       "      <td>0</td>\n",
       "      <td>Não</td>\n",
       "    </tr>\n",
       "  </tbody>\n",
       "</table>\n",
       "</div>"
      ],
      "text/plain": [
       "   Consumidor_Id         Data Análise Carteira      Sexo   Data de Nascimento  \\\n",
       "0              1  2016-10-05 00:00:00        A  feminino              '9/1987   \n",
       "1              2  2016-10-02 00:00:00        A         M                '2001   \n",
       "2              3  2016-10-04 00:00:00        b         F  1946-09-17 00:00:00   \n",
       "3              4  2016-10-06 00:00:00        C         F  1989-09-29 12:00:00   \n",
       "4              5  2016-10-06 00:00:00        C         F                '1989   \n",
       "\n",
       "   Contratos Ativos Contratos em atraso com mais de 30 dias  \\\n",
       "0                 1                                       0   \n",
       "1                 0                                       #   \n",
       "2                 1                                       0   \n",
       "3                 1                                       0   \n",
       "4                 1                                       0   \n",
       "\n",
       "  Inadimplente \\n(90 dias de atraso em 180 dias)  \n",
       "0                                            Não  \n",
       "1                                            Não  \n",
       "2                                            Não  \n",
       "3                                            Sim  \n",
       "4                                            Não  "
      ]
     },
     "execution_count": 3,
     "metadata": {},
     "output_type": "execute_result"
    }
   ],
   "source": [
    "df_ams_atr.head()"
   ]
  },
  {
   "cell_type": "code",
   "execution_count": 4,
   "id": "48ce3ea4",
   "metadata": {},
   "outputs": [
    {
     "data": {
      "text/html": [
       "<div>\n",
       "<style scoped>\n",
       "    .dataframe tbody tr th:only-of-type {\n",
       "        vertical-align: middle;\n",
       "    }\n",
       "\n",
       "    .dataframe tbody tr th {\n",
       "        vertical-align: top;\n",
       "    }\n",
       "\n",
       "    .dataframe thead th {\n",
       "        text-align: right;\n",
       "    }\n",
       "</style>\n",
       "<table border=\"1\" class=\"dataframe\">\n",
       "  <thead>\n",
       "    <tr style=\"text-align: right;\">\n",
       "      <th></th>\n",
       "      <th>Consumidor_Id</th>\n",
       "      <th>Tipo_Ocorrencia</th>\n",
       "      <th>Data_Ocorrencia</th>\n",
       "      <th>Data_Exclusão</th>\n",
       "    </tr>\n",
       "  </thead>\n",
       "  <tbody>\n",
       "    <tr>\n",
       "      <th>0</th>\n",
       "      <td>22</td>\n",
       "      <td>Debito_Banco</td>\n",
       "      <td>2015-08-15</td>\n",
       "      <td>2016-10-28</td>\n",
       "    </tr>\n",
       "    <tr>\n",
       "      <th>1</th>\n",
       "      <td>22</td>\n",
       "      <td>Debito_Banco</td>\n",
       "      <td>2016-08-15</td>\n",
       "      <td>2017-08-15</td>\n",
       "    </tr>\n",
       "    <tr>\n",
       "      <th>2</th>\n",
       "      <td>22</td>\n",
       "      <td>Debito_Banco</td>\n",
       "      <td>2016-08-16</td>\n",
       "      <td>2017-11-20</td>\n",
       "    </tr>\n",
       "    <tr>\n",
       "      <th>3</th>\n",
       "      <td>22</td>\n",
       "      <td>Debito_Banco</td>\n",
       "      <td>2016-08-17</td>\n",
       "      <td>2017-10-22</td>\n",
       "    </tr>\n",
       "    <tr>\n",
       "      <th>4</th>\n",
       "      <td>22</td>\n",
       "      <td>Debito_Banco</td>\n",
       "      <td>2016-08-18</td>\n",
       "      <td>2017-08-18</td>\n",
       "    </tr>\n",
       "  </tbody>\n",
       "</table>\n",
       "</div>"
      ],
      "text/plain": [
       "   Consumidor_Id Tipo_Ocorrencia Data_Ocorrencia Data_Exclusão\n",
       "0             22    Debito_Banco      2015-08-15    2016-10-28\n",
       "1             22    Debito_Banco      2016-08-15    2017-08-15\n",
       "2             22    Debito_Banco      2016-08-16    2017-11-20\n",
       "3             22    Debito_Banco      2016-08-17    2017-10-22\n",
       "4             22    Debito_Banco      2016-08-18    2017-08-18"
      ]
     },
     "execution_count": 4,
     "metadata": {},
     "output_type": "execute_result"
    }
   ],
   "source": [
    "df_neg.head()"
   ]
  },
  {
   "cell_type": "code",
   "execution_count": 5,
   "id": "3cb9804b",
   "metadata": {},
   "outputs": [
    {
     "data": {
      "text/html": [
       "<div>\n",
       "<style scoped>\n",
       "    .dataframe tbody tr th:only-of-type {\n",
       "        vertical-align: middle;\n",
       "    }\n",
       "\n",
       "    .dataframe tbody tr th {\n",
       "        vertical-align: top;\n",
       "    }\n",
       "\n",
       "    .dataframe thead th {\n",
       "        text-align: right;\n",
       "    }\n",
       "</style>\n",
       "<table border=\"1\" class=\"dataframe\">\n",
       "  <thead>\n",
       "    <tr style=\"text-align: right;\">\n",
       "      <th></th>\n",
       "      <th>Consumidor_Id</th>\n",
       "      <th>Cartão</th>\n",
       "      <th>Data  de Contratação</th>\n",
       "    </tr>\n",
       "  </thead>\n",
       "  <tbody>\n",
       "    <tr>\n",
       "      <th>0</th>\n",
       "      <td>1</td>\n",
       "      <td>aa</td>\n",
       "      <td>2016-02-21</td>\n",
       "    </tr>\n",
       "    <tr>\n",
       "      <th>1</th>\n",
       "      <td>34</td>\n",
       "      <td>aaa</td>\n",
       "      <td>2016-04-18</td>\n",
       "    </tr>\n",
       "    <tr>\n",
       "      <th>2</th>\n",
       "      <td>62</td>\n",
       "      <td>ccc</td>\n",
       "      <td>2014-11-26</td>\n",
       "    </tr>\n",
       "    <tr>\n",
       "      <th>3</th>\n",
       "      <td>3</td>\n",
       "      <td>bb</td>\n",
       "      <td>2016-04-14</td>\n",
       "    </tr>\n",
       "    <tr>\n",
       "      <th>4</th>\n",
       "      <td>49</td>\n",
       "      <td>bb</td>\n",
       "      <td>2016-04-14</td>\n",
       "    </tr>\n",
       "  </tbody>\n",
       "</table>\n",
       "</div>"
      ],
      "text/plain": [
       "   Consumidor_Id Cartão Data  de Contratação\n",
       "0              1     aa           2016-02-21\n",
       "1             34    aaa           2016-04-18\n",
       "2             62    ccc           2014-11-26\n",
       "3              3     bb           2016-04-14\n",
       "4             49     bb           2016-04-14"
      ]
     },
     "execution_count": 5,
     "metadata": {},
     "output_type": "execute_result"
    }
   ],
   "source": [
    "df_cont_cart_cred.head()"
   ]
  },
  {
   "cell_type": "code",
   "execution_count": 6,
   "id": "156e3fcd",
   "metadata": {},
   "outputs": [],
   "source": [
    "df_ams_atr['Carteira'] = df_ams_atr['Carteira'].str.upper()\n",
    "df_ams_atr['Sexo'] = df_ams_atr['Sexo'].replace(['feminino','Feminino'],'F')\n",
    "df_ams_atr['Sexo'] = df_ams_atr['Sexo'].replace(['Macsulino','masculino', 'Masculino'],'M')\n",
    "df_ams_atr['Data Análise'] = df_ams_atr['Data Análise'].replace('Out/03/2016', '03/10/2016')\n",
    "df_ams_atr['Data Análise'] = df_ams_atr['Data Análise'].replace('Out/2018', '10/2018')\n",
    "df_ams_atr['Data Análise'] = df_ams_atr['Data Análise'].replace('Out/2016', '10/2016')\n",
    "df_ams_atr['Data de Nascimento'] = pd.to_datetime(df_ams_atr['Data de Nascimento'])\n",
    "df_ams_atr['Data Análise'] = pd.to_datetime(df_ams_atr['Data Análise'])\n",
    "df_ams_atr = df_ams_atr.rename(columns={'Inadimplente \\n(90 dias de atraso em 180 dias)': 'Inadimplente', \\\n",
    "                                        'Contratos em atraso com mais de 30 dias':'Contratos_Atrasados', \\\n",
    "                                        'Contratos Ativos':'Contratos_Ativos'})\n",
    "df_cont_cart_cred = df_cont_cart_cred.rename(columns={'Data  de Contratação': 'Data_Contratacao'})"
   ]
  },
  {
   "cell_type": "code",
   "execution_count": 7,
   "id": "0019d279",
   "metadata": {},
   "outputs": [],
   "source": [
    "df_ams_atr = df_ams_atr[df_ams_atr['Inadimplente'].notna()]"
   ]
  },
  {
   "cell_type": "code",
   "execution_count": 8,
   "id": "e581eb32",
   "metadata": {},
   "outputs": [
    {
     "data": {
      "text/html": [
       "<div>\n",
       "<style scoped>\n",
       "    .dataframe tbody tr th:only-of-type {\n",
       "        vertical-align: middle;\n",
       "    }\n",
       "\n",
       "    .dataframe tbody tr th {\n",
       "        vertical-align: top;\n",
       "    }\n",
       "\n",
       "    .dataframe thead th {\n",
       "        text-align: right;\n",
       "    }\n",
       "</style>\n",
       "<table border=\"1\" class=\"dataframe\">\n",
       "  <thead>\n",
       "    <tr style=\"text-align: right;\">\n",
       "      <th></th>\n",
       "      <th>Consumidor_Id</th>\n",
       "      <th>Data Análise</th>\n",
       "      <th>Carteira</th>\n",
       "      <th>Sexo</th>\n",
       "      <th>Data de Nascimento</th>\n",
       "      <th>Contratos_Ativos</th>\n",
       "      <th>Contratos_Atrasados</th>\n",
       "      <th>Inadimplente</th>\n",
       "    </tr>\n",
       "  </thead>\n",
       "  <tbody>\n",
       "    <tr>\n",
       "      <th>0</th>\n",
       "      <td>1</td>\n",
       "      <td>2016-10-05</td>\n",
       "      <td>A</td>\n",
       "      <td>F</td>\n",
       "      <td>1987-09-01 00:00:00</td>\n",
       "      <td>1</td>\n",
       "      <td>0</td>\n",
       "      <td>Não</td>\n",
       "    </tr>\n",
       "    <tr>\n",
       "      <th>1</th>\n",
       "      <td>2</td>\n",
       "      <td>2016-10-02</td>\n",
       "      <td>A</td>\n",
       "      <td>M</td>\n",
       "      <td>2001-01-01 00:00:00</td>\n",
       "      <td>0</td>\n",
       "      <td>#</td>\n",
       "      <td>Não</td>\n",
       "    </tr>\n",
       "    <tr>\n",
       "      <th>2</th>\n",
       "      <td>3</td>\n",
       "      <td>2016-10-04</td>\n",
       "      <td>B</td>\n",
       "      <td>F</td>\n",
       "      <td>1946-09-17 00:00:00</td>\n",
       "      <td>1</td>\n",
       "      <td>0</td>\n",
       "      <td>Não</td>\n",
       "    </tr>\n",
       "    <tr>\n",
       "      <th>3</th>\n",
       "      <td>4</td>\n",
       "      <td>2016-10-06</td>\n",
       "      <td>C</td>\n",
       "      <td>F</td>\n",
       "      <td>1989-09-29 12:00:00</td>\n",
       "      <td>1</td>\n",
       "      <td>0</td>\n",
       "      <td>Sim</td>\n",
       "    </tr>\n",
       "    <tr>\n",
       "      <th>4</th>\n",
       "      <td>5</td>\n",
       "      <td>2016-10-06</td>\n",
       "      <td>C</td>\n",
       "      <td>F</td>\n",
       "      <td>1989-01-01 00:00:00</td>\n",
       "      <td>1</td>\n",
       "      <td>0</td>\n",
       "      <td>Não</td>\n",
       "    </tr>\n",
       "  </tbody>\n",
       "</table>\n",
       "</div>"
      ],
      "text/plain": [
       "   Consumidor_Id Data Análise Carteira Sexo  Data de Nascimento  \\\n",
       "0              1   2016-10-05        A    F 1987-09-01 00:00:00   \n",
       "1              2   2016-10-02        A    M 2001-01-01 00:00:00   \n",
       "2              3   2016-10-04        B    F 1946-09-17 00:00:00   \n",
       "3              4   2016-10-06        C    F 1989-09-29 12:00:00   \n",
       "4              5   2016-10-06        C    F 1989-01-01 00:00:00   \n",
       "\n",
       "   Contratos_Ativos Contratos_Atrasados Inadimplente  \n",
       "0                 1                   0          Não  \n",
       "1                 0                   #          Não  \n",
       "2                 1                   0          Não  \n",
       "3                 1                   0          Sim  \n",
       "4                 1                   0          Não  "
      ]
     },
     "execution_count": 8,
     "metadata": {},
     "output_type": "execute_result"
    }
   ],
   "source": [
    "df_ams_atr.head()"
   ]
  },
  {
   "cell_type": "code",
   "execution_count": 9,
   "id": "7cb2f94d",
   "metadata": {},
   "outputs": [
    {
     "data": {
      "text/html": [
       "<div>\n",
       "<style scoped>\n",
       "    .dataframe tbody tr th:only-of-type {\n",
       "        vertical-align: middle;\n",
       "    }\n",
       "\n",
       "    .dataframe tbody tr th {\n",
       "        vertical-align: top;\n",
       "    }\n",
       "\n",
       "    .dataframe thead th {\n",
       "        text-align: right;\n",
       "    }\n",
       "</style>\n",
       "<table border=\"1\" class=\"dataframe\">\n",
       "  <thead>\n",
       "    <tr style=\"text-align: right;\">\n",
       "      <th></th>\n",
       "      <th>Consumidor_Id</th>\n",
       "      <th>Tipo_Ocorrencia</th>\n",
       "      <th>Data_Ocorrencia</th>\n",
       "      <th>Data_Exclusão</th>\n",
       "    </tr>\n",
       "  </thead>\n",
       "  <tbody>\n",
       "    <tr>\n",
       "      <th>0</th>\n",
       "      <td>22</td>\n",
       "      <td>Debito_Banco</td>\n",
       "      <td>2015-08-15</td>\n",
       "      <td>2016-10-28</td>\n",
       "    </tr>\n",
       "    <tr>\n",
       "      <th>1</th>\n",
       "      <td>22</td>\n",
       "      <td>Debito_Banco</td>\n",
       "      <td>2016-08-15</td>\n",
       "      <td>2017-08-15</td>\n",
       "    </tr>\n",
       "    <tr>\n",
       "      <th>2</th>\n",
       "      <td>22</td>\n",
       "      <td>Debito_Banco</td>\n",
       "      <td>2016-08-16</td>\n",
       "      <td>2017-11-20</td>\n",
       "    </tr>\n",
       "    <tr>\n",
       "      <th>3</th>\n",
       "      <td>22</td>\n",
       "      <td>Debito_Banco</td>\n",
       "      <td>2016-08-17</td>\n",
       "      <td>2017-10-22</td>\n",
       "    </tr>\n",
       "    <tr>\n",
       "      <th>4</th>\n",
       "      <td>22</td>\n",
       "      <td>Debito_Banco</td>\n",
       "      <td>2016-08-18</td>\n",
       "      <td>2017-08-18</td>\n",
       "    </tr>\n",
       "  </tbody>\n",
       "</table>\n",
       "</div>"
      ],
      "text/plain": [
       "   Consumidor_Id Tipo_Ocorrencia Data_Ocorrencia Data_Exclusão\n",
       "0             22    Debito_Banco      2015-08-15    2016-10-28\n",
       "1             22    Debito_Banco      2016-08-15    2017-08-15\n",
       "2             22    Debito_Banco      2016-08-16    2017-11-20\n",
       "3             22    Debito_Banco      2016-08-17    2017-10-22\n",
       "4             22    Debito_Banco      2016-08-18    2017-08-18"
      ]
     },
     "execution_count": 9,
     "metadata": {},
     "output_type": "execute_result"
    }
   ],
   "source": [
    "df_neg.head()"
   ]
  },
  {
   "cell_type": "code",
   "execution_count": 10,
   "id": "a8f3ed8f",
   "metadata": {},
   "outputs": [
    {
     "data": {
      "text/html": [
       "<div>\n",
       "<style scoped>\n",
       "    .dataframe tbody tr th:only-of-type {\n",
       "        vertical-align: middle;\n",
       "    }\n",
       "\n",
       "    .dataframe tbody tr th {\n",
       "        vertical-align: top;\n",
       "    }\n",
       "\n",
       "    .dataframe thead th {\n",
       "        text-align: right;\n",
       "    }\n",
       "</style>\n",
       "<table border=\"1\" class=\"dataframe\">\n",
       "  <thead>\n",
       "    <tr style=\"text-align: right;\">\n",
       "      <th></th>\n",
       "      <th>Consumidor_Id</th>\n",
       "      <th>Cartão</th>\n",
       "      <th>Data_Contratacao</th>\n",
       "    </tr>\n",
       "  </thead>\n",
       "  <tbody>\n",
       "    <tr>\n",
       "      <th>0</th>\n",
       "      <td>1</td>\n",
       "      <td>aa</td>\n",
       "      <td>2016-02-21</td>\n",
       "    </tr>\n",
       "    <tr>\n",
       "      <th>1</th>\n",
       "      <td>34</td>\n",
       "      <td>aaa</td>\n",
       "      <td>2016-04-18</td>\n",
       "    </tr>\n",
       "    <tr>\n",
       "      <th>2</th>\n",
       "      <td>62</td>\n",
       "      <td>ccc</td>\n",
       "      <td>2014-11-26</td>\n",
       "    </tr>\n",
       "    <tr>\n",
       "      <th>3</th>\n",
       "      <td>3</td>\n",
       "      <td>bb</td>\n",
       "      <td>2016-04-14</td>\n",
       "    </tr>\n",
       "    <tr>\n",
       "      <th>4</th>\n",
       "      <td>49</td>\n",
       "      <td>bb</td>\n",
       "      <td>2016-04-14</td>\n",
       "    </tr>\n",
       "  </tbody>\n",
       "</table>\n",
       "</div>"
      ],
      "text/plain": [
       "   Consumidor_Id Cartão Data_Contratacao\n",
       "0              1     aa       2016-02-21\n",
       "1             34    aaa       2016-04-18\n",
       "2             62    ccc       2014-11-26\n",
       "3              3     bb       2016-04-14\n",
       "4             49     bb       2016-04-14"
      ]
     },
     "execution_count": 10,
     "metadata": {},
     "output_type": "execute_result"
    }
   ],
   "source": [
    "df_cont_cart_cred.head()"
   ]
  },
  {
   "cell_type": "code",
   "execution_count": 11,
   "id": "be112785",
   "metadata": {},
   "outputs": [],
   "source": [
    "df_ams_atr['Consumidor_Idade'] = pd.to_timedelta((df_ams_atr['Data Análise'] - df_ams_atr['Data de Nascimento'])).dt.days / 365"
   ]
  },
  {
   "cell_type": "code",
   "execution_count": 12,
   "id": "7f466cb9",
   "metadata": {},
   "outputs": [],
   "source": [
    "df_ams_atr = df_ams_atr[df_ams_atr['Consumidor_Idade'] < 100]"
   ]
  },
  {
   "cell_type": "code",
   "execution_count": 13,
   "id": "cc7d54c9",
   "metadata": {},
   "outputs": [],
   "source": [
    "df_amr_atr_neg = df_ams_atr.merge(df_neg, how='left', on='Consumidor_Id')"
   ]
  },
  {
   "cell_type": "code",
   "execution_count": 14,
   "id": "375e60f7",
   "metadata": {},
   "outputs": [],
   "source": [
    "df_amr_atr_neg = df_amr_atr_neg[df_amr_atr_neg['Data_Ocorrencia'] < df_amr_atr_neg['Data Análise']]\n",
    "df_amr_atr_neg = df_amr_atr_neg[df_amr_atr_neg['Data_Exclusão'] > df_amr_atr_neg['Data Análise']]"
   ]
  },
  {
   "cell_type": "code",
   "execution_count": 15,
   "id": "37c104b3",
   "metadata": {},
   "outputs": [],
   "source": [
    "neg_consumidor = df_amr_atr_neg['Consumidor_Id'].value_counts()"
   ]
  },
  {
   "cell_type": "code",
   "execution_count": 16,
   "id": "27045c45",
   "metadata": {},
   "outputs": [],
   "source": [
    "df_ams_atr['Negativacoes'] = ''"
   ]
  },
  {
   "cell_type": "code",
   "execution_count": 17,
   "id": "f3080007",
   "metadata": {},
   "outputs": [
    {
     "name": "stderr",
     "output_type": "stream",
     "text": [
      "<ipython-input-17-7e76181ef252>:2: SettingWithCopyWarning: \n",
      "A value is trying to be set on a copy of a slice from a DataFrame\n",
      "\n",
      "See the caveats in the documentation: https://pandas.pydata.org/pandas-docs/stable/user_guide/indexing.html#returning-a-view-versus-a-copy\n",
      "  df_ams_atr['Negativacoes'][index] = neg_consumidor.get(row['Consumidor_Id'])\n"
     ]
    }
   ],
   "source": [
    "for index, row in df_ams_atr.iterrows():\n",
    "    df_ams_atr['Negativacoes'][index] = neg_consumidor.get(row['Consumidor_Id'])"
   ]
  },
  {
   "cell_type": "code",
   "execution_count": 18,
   "id": "6a5dcf45",
   "metadata": {},
   "outputs": [],
   "source": [
    "df_ams_atr['Negativacoes'] = df_ams_atr['Negativacoes'].fillna(0)"
   ]
  },
  {
   "cell_type": "code",
   "execution_count": 19,
   "id": "55af6a42",
   "metadata": {},
   "outputs": [],
   "source": [
    "df_ams_atr = df_ams_atr.merge(df_cont_cart_cred, how='left', on='Consumidor_Id')"
   ]
  },
  {
   "cell_type": "code",
   "execution_count": 20,
   "id": "9216a6d7",
   "metadata": {},
   "outputs": [],
   "source": [
    "df_ams_atr['Cartão'] = df_ams_atr['Cartão'].map('Sim'.format, na_action='ignore')\n",
    "df_ams_atr['Cartão'] = df_ams_atr['Cartão'].fillna('Nao')"
   ]
  },
  {
   "cell_type": "code",
   "execution_count": 21,
   "id": "d38d4a6f",
   "metadata": {},
   "outputs": [
    {
     "name": "stderr",
     "output_type": "stream",
     "text": [
      "<ipython-input-21-9f08a4121668>:1: UserWarning: Boolean Series key will be reindexed to match DataFrame index.\n",
      "  len(df_ams_atr[df_ams_atr['Cartão'] == 'Sim'][df_ams_atr['Data_Contratacao'] > df_ams_atr['Data Análise']])\n"
     ]
    },
    {
     "data": {
      "text/plain": [
       "0"
      ]
     },
     "execution_count": 21,
     "metadata": {},
     "output_type": "execute_result"
    }
   ],
   "source": [
    "len(df_ams_atr[df_ams_atr['Cartão'] == 'Sim'][df_ams_atr['Data_Contratacao'] > df_ams_atr['Data Análise']])"
   ]
  },
  {
   "cell_type": "code",
   "execution_count": 22,
   "id": "132411e7",
   "metadata": {},
   "outputs": [
    {
     "data": {
      "text/html": [
       "<div>\n",
       "<style scoped>\n",
       "    .dataframe tbody tr th:only-of-type {\n",
       "        vertical-align: middle;\n",
       "    }\n",
       "\n",
       "    .dataframe tbody tr th {\n",
       "        vertical-align: top;\n",
       "    }\n",
       "\n",
       "    .dataframe thead th {\n",
       "        text-align: right;\n",
       "    }\n",
       "</style>\n",
       "<table border=\"1\" class=\"dataframe\">\n",
       "  <thead>\n",
       "    <tr style=\"text-align: right;\">\n",
       "      <th></th>\n",
       "      <th>Consumidor_Id</th>\n",
       "      <th>Data Análise</th>\n",
       "      <th>Carteira</th>\n",
       "      <th>Sexo</th>\n",
       "      <th>Data de Nascimento</th>\n",
       "      <th>Contratos_Ativos</th>\n",
       "      <th>Contratos_Atrasados</th>\n",
       "      <th>Inadimplente</th>\n",
       "      <th>Consumidor_Idade</th>\n",
       "      <th>Negativacoes</th>\n",
       "      <th>Cartão</th>\n",
       "      <th>Data_Contratacao</th>\n",
       "    </tr>\n",
       "  </thead>\n",
       "  <tbody>\n",
       "    <tr>\n",
       "      <th>0</th>\n",
       "      <td>1</td>\n",
       "      <td>2016-10-05</td>\n",
       "      <td>A</td>\n",
       "      <td>F</td>\n",
       "      <td>1987-09-01 00:00:00</td>\n",
       "      <td>1</td>\n",
       "      <td>0</td>\n",
       "      <td>Não</td>\n",
       "      <td>29.115068</td>\n",
       "      <td>0</td>\n",
       "      <td>Sim</td>\n",
       "      <td>2016-02-21</td>\n",
       "    </tr>\n",
       "    <tr>\n",
       "      <th>1</th>\n",
       "      <td>2</td>\n",
       "      <td>2016-10-02</td>\n",
       "      <td>A</td>\n",
       "      <td>M</td>\n",
       "      <td>2001-01-01 00:00:00</td>\n",
       "      <td>0</td>\n",
       "      <td>#</td>\n",
       "      <td>Não</td>\n",
       "      <td>15.761644</td>\n",
       "      <td>1</td>\n",
       "      <td>Nao</td>\n",
       "      <td>NaT</td>\n",
       "    </tr>\n",
       "    <tr>\n",
       "      <th>2</th>\n",
       "      <td>3</td>\n",
       "      <td>2016-10-04</td>\n",
       "      <td>B</td>\n",
       "      <td>F</td>\n",
       "      <td>1946-09-17 00:00:00</td>\n",
       "      <td>1</td>\n",
       "      <td>0</td>\n",
       "      <td>Não</td>\n",
       "      <td>70.095890</td>\n",
       "      <td>0</td>\n",
       "      <td>Sim</td>\n",
       "      <td>2016-04-14</td>\n",
       "    </tr>\n",
       "    <tr>\n",
       "      <th>3</th>\n",
       "      <td>4</td>\n",
       "      <td>2016-10-06</td>\n",
       "      <td>C</td>\n",
       "      <td>F</td>\n",
       "      <td>1989-09-29 12:00:00</td>\n",
       "      <td>1</td>\n",
       "      <td>0</td>\n",
       "      <td>Sim</td>\n",
       "      <td>27.035616</td>\n",
       "      <td>0</td>\n",
       "      <td>Sim</td>\n",
       "      <td>2014-11-26</td>\n",
       "    </tr>\n",
       "    <tr>\n",
       "      <th>4</th>\n",
       "      <td>5</td>\n",
       "      <td>2016-10-06</td>\n",
       "      <td>C</td>\n",
       "      <td>F</td>\n",
       "      <td>1989-01-01 00:00:00</td>\n",
       "      <td>1</td>\n",
       "      <td>0</td>\n",
       "      <td>Não</td>\n",
       "      <td>27.780822</td>\n",
       "      <td>0</td>\n",
       "      <td>Sim</td>\n",
       "      <td>2015-07-28</td>\n",
       "    </tr>\n",
       "  </tbody>\n",
       "</table>\n",
       "</div>"
      ],
      "text/plain": [
       "   Consumidor_Id Data Análise Carteira Sexo  Data de Nascimento  \\\n",
       "0              1   2016-10-05        A    F 1987-09-01 00:00:00   \n",
       "1              2   2016-10-02        A    M 2001-01-01 00:00:00   \n",
       "2              3   2016-10-04        B    F 1946-09-17 00:00:00   \n",
       "3              4   2016-10-06        C    F 1989-09-29 12:00:00   \n",
       "4              5   2016-10-06        C    F 1989-01-01 00:00:00   \n",
       "\n",
       "   Contratos_Ativos Contratos_Atrasados Inadimplente  Consumidor_Idade  \\\n",
       "0                 1                   0          Não         29.115068   \n",
       "1                 0                   #          Não         15.761644   \n",
       "2                 1                   0          Não         70.095890   \n",
       "3                 1                   0          Sim         27.035616   \n",
       "4                 1                   0          Não         27.780822   \n",
       "\n",
       "   Negativacoes Cartão Data_Contratacao  \n",
       "0             0    Sim       2016-02-21  \n",
       "1             1    Nao              NaT  \n",
       "2             0    Sim       2016-04-14  \n",
       "3             0    Sim       2014-11-26  \n",
       "4             0    Sim       2015-07-28  "
      ]
     },
     "execution_count": 22,
     "metadata": {},
     "output_type": "execute_result"
    }
   ],
   "source": [
    "df_ams_atr.head()"
   ]
  },
  {
   "cell_type": "markdown",
   "id": "c2564e3b",
   "metadata": {},
   "source": [
    "#### Analises mais simples"
   ]
  },
  {
   "cell_type": "code",
   "execution_count": 23,
   "id": "e470fd01",
   "metadata": {},
   "outputs": [
    {
     "data": {
      "text/plain": [
       "Não    29\n",
       "Sim    28\n",
       "Name: Inadimplente, dtype: int64"
      ]
     },
     "execution_count": 23,
     "metadata": {},
     "output_type": "execute_result"
    }
   ],
   "source": [
    "df_ams_atr['Inadimplente'].value_counts()"
   ]
  },
  {
   "cell_type": "code",
   "execution_count": 24,
   "id": "64d63462",
   "metadata": {},
   "outputs": [
    {
     "data": {
      "text/plain": [
       "Não    15\n",
       "Sim    12\n",
       "Name: Inadimplente, dtype: int64"
      ]
     },
     "execution_count": 24,
     "metadata": {},
     "output_type": "execute_result"
    }
   ],
   "source": [
    "df_ams_atr[df_ams_atr['Sexo'] == 'F']['Inadimplente'].value_counts()"
   ]
  },
  {
   "cell_type": "code",
   "execution_count": 25,
   "id": "aca09df7",
   "metadata": {},
   "outputs": [
    {
     "data": {
      "text/plain": [
       "Sim    16\n",
       "Não    14\n",
       "Name: Inadimplente, dtype: int64"
      ]
     },
     "execution_count": 25,
     "metadata": {},
     "output_type": "execute_result"
    }
   ],
   "source": [
    "df_ams_atr[df_ams_atr['Sexo'] == 'M']['Inadimplente'].value_counts()"
   ]
  },
  {
   "cell_type": "code",
   "execution_count": 26,
   "id": "49570606",
   "metadata": {},
   "outputs": [
    {
     "data": {
      "text/plain": [
       "Não    10\n",
       "Sim     6\n",
       "Name: Inadimplente, dtype: int64"
      ]
     },
     "execution_count": 26,
     "metadata": {},
     "output_type": "execute_result"
    }
   ],
   "source": [
    "df_ams_atr[df_ams_atr['Carteira'] =='A']['Inadimplente'].value_counts()"
   ]
  },
  {
   "cell_type": "code",
   "execution_count": 27,
   "id": "50679938",
   "metadata": {},
   "outputs": [
    {
     "data": {
      "text/plain": [
       "Não    8\n",
       "Sim    7\n",
       "Name: Inadimplente, dtype: int64"
      ]
     },
     "execution_count": 27,
     "metadata": {},
     "output_type": "execute_result"
    }
   ],
   "source": [
    "df_ams_atr[df_ams_atr['Carteira'] =='B']['Inadimplente'].value_counts()"
   ]
  },
  {
   "cell_type": "code",
   "execution_count": 28,
   "id": "8c4b2bdb",
   "metadata": {},
   "outputs": [
    {
     "data": {
      "text/plain": [
       "Sim    10\n",
       "Não     7\n",
       "Name: Inadimplente, dtype: int64"
      ]
     },
     "execution_count": 28,
     "metadata": {},
     "output_type": "execute_result"
    }
   ],
   "source": [
    "df_ams_atr[df_ams_atr['Carteira'] =='C']['Inadimplente'].value_counts()"
   ]
  },
  {
   "cell_type": "code",
   "execution_count": 29,
   "id": "59229795",
   "metadata": {},
   "outputs": [
    {
     "data": {
      "text/plain": [
       "Não    7\n",
       "Sim    6\n",
       "Name: Inadimplente, dtype: int64"
      ]
     },
     "execution_count": 29,
     "metadata": {},
     "output_type": "execute_result"
    }
   ],
   "source": [
    "df_ams_atr[df_ams_atr['Cartão'] =='Nao']['Inadimplente'].value_counts()"
   ]
  },
  {
   "cell_type": "code",
   "execution_count": 30,
   "id": "b23a5c31",
   "metadata": {},
   "outputs": [
    {
     "data": {
      "text/plain": [
       "Não    22\n",
       "Sim    22\n",
       "Name: Inadimplente, dtype: int64"
      ]
     },
     "execution_count": 30,
     "metadata": {},
     "output_type": "execute_result"
    }
   ],
   "source": [
    "df_ams_atr[df_ams_atr['Cartão'] =='Sim']['Inadimplente'].value_counts()"
   ]
  },
  {
   "cell_type": "markdown",
   "id": "9e51b088",
   "metadata": {},
   "source": [
    "#### Testes de normalidade"
   ]
  },
  {
   "cell_type": "code",
   "execution_count": 31,
   "id": "5f2e5684",
   "metadata": {},
   "outputs": [],
   "source": [
    "def testar_normalidade(dados, label): \n",
    "    sns.distplot(dados, hist=False, label=label)\n",
    "\n",
    "    alpha = 0.01\n",
    "    tes,p2 = shapiro(dados)\n",
    "    if p2 > alpha:\n",
    "        print('Hipótese Nula - distribuição normal')\n",
    "    else:\n",
    "        print('Hipótese Nula rejeitada - dados não possuem distribuição normal')"
   ]
  },
  {
   "cell_type": "code",
   "execution_count": 32,
   "id": "2ad39669",
   "metadata": {},
   "outputs": [
    {
     "name": "stdout",
     "output_type": "stream",
     "text": [
      "Hipótese Nula rejeitada - dados não possuem distribuição normal\n"
     ]
    },
    {
     "name": "stderr",
     "output_type": "stream",
     "text": [
      "D:\\Programas\\Anaconda\\lib\\site-packages\\seaborn\\distributions.py:2557: FutureWarning: `distplot` is a deprecated function and will be removed in a future version. Please adapt your code to use either `displot` (a figure-level function with similar flexibility) or `kdeplot` (an axes-level function for kernel density plots).\n",
      "  warnings.warn(msg, FutureWarning)\n"
     ]
    },
    {
     "data": {
      "image/png": "[encoded data removed]",
      "text/plain": [
       "<Figure size 432x288 with 1 Axes>"
      ]
     },
     "metadata": {
      "needs_background": "light"
     },
     "output_type": "display_data"
    }
   ],
   "source": [
    "testar_normalidade(df_ams_atr['Consumidor_Idade'], 'Idade do consumidor')"
   ]
  },
  {
   "cell_type": "code",
   "execution_count": 33,
   "id": "cb5c3bcf",
   "metadata": {},
   "outputs": [
    {
     "name": "stderr",
     "output_type": "stream",
     "text": [
      "D:\\Programas\\Anaconda\\lib\\site-packages\\seaborn\\distributions.py:2557: FutureWarning: `distplot` is a deprecated function and will be removed in a future version. Please adapt your code to use either `displot` (a figure-level function with similar flexibility) or `kdeplot` (an axes-level function for kernel density plots).\n",
      "  warnings.warn(msg, FutureWarning)\n"
     ]
    },
    {
     "name": "stdout",
     "output_type": "stream",
     "text": [
      "Hipótese Nula rejeitada - dados não possuem distribuição normal\n"
     ]
    },
    {
     "data": {
      "image/png": "[encoded data removed]",
      "text/plain": [
       "<Figure size 432x288 with 1 Axes>"
      ]
     },
     "metadata": {
      "needs_background": "light"
     },
     "output_type": "display_data"
    }
   ],
   "source": [
    "testar_normalidade(df_ams_atr['Negativacoes'], 'Negativações')"
   ]
  },
  {
   "cell_type": "code",
   "execution_count": 34,
   "id": "ec626fe1",
   "metadata": {},
   "outputs": [
    {
     "name": "stderr",
     "output_type": "stream",
     "text": [
      "D:\\Programas\\Anaconda\\lib\\site-packages\\seaborn\\distributions.py:2557: FutureWarning: `distplot` is a deprecated function and will be removed in a future version. Please adapt your code to use either `displot` (a figure-level function with similar flexibility) or `kdeplot` (an axes-level function for kernel density plots).\n",
      "  warnings.warn(msg, FutureWarning)\n"
     ]
    },
    {
     "name": "stdout",
     "output_type": "stream",
     "text": [
      "Hipótese Nula rejeitada - dados não possuem distribuição normal\n"
     ]
    },
    {
     "data": {
      "image/png": "[encoded data removed]",
      "text/plain": [
       "<Figure size 432x288 with 1 Axes>"
      ]
     },
     "metadata": {
      "needs_background": "light"
     },
     "output_type": "display_data"
    }
   ],
   "source": [
    "df_contratos_atrasados = df_ams_atr[df_ams_atr['Contratos_Atrasados'] != '#']\n",
    "testar_normalidade(df_contratos_atrasados['Contratos_Atrasados'], 'Contratos Atrasados')"
   ]
  },
  {
   "cell_type": "code",
   "execution_count": 35,
   "id": "2763a9af",
   "metadata": {},
   "outputs": [
    {
     "name": "stderr",
     "output_type": "stream",
     "text": [
      "D:\\Programas\\Anaconda\\lib\\site-packages\\seaborn\\distributions.py:2557: FutureWarning: `distplot` is a deprecated function and will be removed in a future version. Please adapt your code to use either `displot` (a figure-level function with similar flexibility) or `kdeplot` (an axes-level function for kernel density plots).\n",
      "  warnings.warn(msg, FutureWarning)\n"
     ]
    },
    {
     "name": "stdout",
     "output_type": "stream",
     "text": [
      "Hipótese Nula rejeitada - dados não possuem distribuição normal\n"
     ]
    },
    {
     "data": {
      "image/png": "[encoded data removed]",
      "text/plain": [
       "<Figure size 432x288 with 1 Axes>"
      ]
     },
     "metadata": {
      "needs_background": "light"
     },
     "output_type": "display_data"
    }
   ],
   "source": [
    "testar_normalidade(df_contratos_atrasados['Contratos_Ativos'], 'Contratos Ativos')"
   ]
  },
  {
   "cell_type": "markdown",
   "id": "2b136d9c",
   "metadata": {},
   "source": [
    "#### Testes de hipotese para dados nao normais"
   ]
  },
  {
   "cell_type": "code",
   "execution_count": 36,
   "id": "ded8536f",
   "metadata": {},
   "outputs": [],
   "source": [
    "def aplicar_testes(df_amostra, parametro):\n",
    "    str_amostra_1 = f\"{df_amostra}[{df_amostra}['Inadimplente'] == 'Não'].{parametro}\"\n",
    "    amostra_1 = eval(str_amostra_1)\n",
    "    str_amostra_2 = f\"{df_amostra}[{df_amostra}['Inadimplente'] == 'Sim'].{parametro}\"\n",
    "    amostra_2 = eval(str_amostra_2)\n",
    "\n",
    "    u_statistic1, p_value1 = mannwhitneyu(amostra_1,amostra_2, alternative = 'two-sided')\n",
    "    u_statistic2, p_value2 = ranksums(amostra_1,amostra_2)\n",
    "    u_statistic3, p_value3 = ks_2samp(amostra_1 ,amostra_2 ,alternative='two-sided')\n",
    "\n",
    "    if (p_value1 < 0.05) or (p_value2 < 0.05) or (p_value3 < 0.05):\n",
    "        print(\"Hipótese Nula rejeitada. De acordo com:\")\n",
    "    if (p_value1 < 0.05):\n",
    "        print(\"- Mann-Whitney-U. Valor-p:\", p_value1)\n",
    "    if (p_value2 < 0.05):\n",
    "        print(\"- RankSums. Valor-p:\", p_value2)\n",
    "    if (p_value3 < 0.05):\n",
    "        print(\"- Kolmogorov-Smirnov. Valor-p:\", p_value3)\n",
    "    else:\n",
    "        print(\"Sem estatísticas revelantes para se anular a Hipótese Nula\")"
   ]
  },
  {
   "cell_type": "code",
   "execution_count": 37,
   "id": "d99c4869",
   "metadata": {},
   "outputs": [
    {
     "name": "stdout",
     "output_type": "stream",
     "text": [
      "Sem estatísticas revelantes para se anular a Hipótese Nula\n"
     ]
    }
   ],
   "source": [
    "aplicar_testes('df_ams_atr', 'Consumidor_Idade')"
   ]
  },
  {
   "cell_type": "code",
   "execution_count": 38,
   "id": "47b28629",
   "metadata": {},
   "outputs": [
    {
     "name": "stdout",
     "output_type": "stream",
     "text": [
      "Sem estatísticas revelantes para se anular a Hipótese Nula\n"
     ]
    }
   ],
   "source": [
    "aplicar_testes('df_ams_atr', 'Negativacoes')"
   ]
  },
  {
   "cell_type": "code",
   "execution_count": 39,
   "id": "871c047d",
   "metadata": {},
   "outputs": [
    {
     "name": "stdout",
     "output_type": "stream",
     "text": [
      "Hipótese Nula rejeitada. De acordo com:\n",
      "- Mann-Whitney-U. Valor-p: 1.917982492514108e-05\n",
      "- RankSums. Valor-p: 2.939188989116168e-05\n",
      "- Kolmogorov-Smirnov. Valor-p: 0.00016846415501926455\n"
     ]
    }
   ],
   "source": [
    "aplicar_testes('df_contratos_atrasados', 'Contratos_Atrasados')"
   ]
  },
  {
   "cell_type": "code",
   "execution_count": 40,
   "id": "3a4d6278",
   "metadata": {},
   "outputs": [
    {
     "name": "stdout",
     "output_type": "stream",
     "text": [
      "Hipótese Nula rejeitada. De acordo com:\n",
      "- Mann-Whitney-U. Valor-p: 0.0030431375201239127\n",
      "- RankSums. Valor-p: 0.0033131386287984094\n",
      "- Kolmogorov-Smirnov. Valor-p: 9.200576520695947e-05\n"
     ]
    }
   ],
   "source": [
    "aplicar_testes('df_ams_atr', 'Contratos_Ativos')"
   ]
  },
  {
   "cell_type": "code",
   "execution_count": 41,
   "id": "20995c42",
   "metadata": {},
   "outputs": [
    {
     "data": {
      "text/plain": [
       "30.40909090909091"
      ]
     },
     "execution_count": 41,
     "metadata": {},
     "output_type": "execute_result"
    }
   ],
   "source": [
    "df_contratos_atrasados[df_contratos_atrasados['Inadimplente'] == 'Sim']['Contratos_Atrasados'].mean()"
   ]
  },
  {
   "cell_type": "code",
   "execution_count": 42,
   "id": "0ef658f5",
   "metadata": {},
   "outputs": [
    {
     "data": {
      "text/plain": [
       "2.1363636363636362"
      ]
     },
     "execution_count": 42,
     "metadata": {},
     "output_type": "execute_result"
    }
   ],
   "source": [
    "df_contratos_atrasados[df_contratos_atrasados['Inadimplente'] == 'Não']['Contratos_Atrasados'].mean()"
   ]
  },
  {
   "cell_type": "code",
   "execution_count": 43,
   "id": "4719544e",
   "metadata": {},
   "outputs": [
    {
     "data": {
      "text/plain": [
       "71.9090909090909"
      ]
     },
     "execution_count": 43,
     "metadata": {},
     "output_type": "execute_result"
    }
   ],
   "source": [
    "df_contratos_atrasados[df_contratos_atrasados['Inadimplente'] == 'Sim']['Contratos_Ativos'].mean()"
   ]
  },
  {
   "cell_type": "code",
   "execution_count": 44,
   "id": "fc169f71",
   "metadata": {},
   "outputs": [
    {
     "data": {
      "text/plain": [
       "14.227272727272727"
      ]
     },
     "execution_count": 44,
     "metadata": {},
     "output_type": "execute_result"
    }
   ],
   "source": [
    "df_contratos_atrasados[df_contratos_atrasados['Inadimplente'] == 'Não']['Contratos_Ativos'].mean()"
   ]
  },
  {
   "cell_type": "code",
   "execution_count": null,
   "id": "85e3b816",
   "metadata": {},
   "outputs": [],
   "source": []
  }
 ],
 "metadata": {
  "kernelspec": {
   "display_name": "Python 3",
   "language": "python",
   "name": "python3"
  },
  "language_info": {
   "codemirror_mode": {
    "name": "ipython",
    "version": 3
   },
   "file_extension": ".py",
   "mimetype": "text/x-python",
   "name": "python",
   "nbconvert_exporter": "python",
   "pygments_lexer": "ipython3",
   "version": "3.8.8"
  }
 },
 "nbformat": 4,
 "nbformat_minor": 5
}
